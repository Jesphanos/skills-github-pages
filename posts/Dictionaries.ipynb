{
 "cells": [
  {
   "cell_type": "markdown",
   "id": "6067a316-74f6-4c5d-b1e0-5f20ba77198e",
   "metadata": {},
   "source": [
    "# Try It Yourself"
   ]
  },
  {
   "cell_type": "code",
   "execution_count": null,
   "id": "f50d2b65-8a11-48c6-9aca-c6eeb85fad94",
   "metadata": {},
   "outputs": [],
   "source": []
  },
  {
   "cell_type": "markdown",
   "id": "55a0c194-e6ac-4d12-964e-0c5171b719db",
   "metadata": {},
   "source": [
    "**6-1**. Person: Use a dictionary to store information about a person you know. \n",
    "Store their first name, last name, age, and the city in which they live. You \n",
    "should have keys such as first_name, last_name, age, and city. Print each \n",
    "piece of information stored in your dictionary"
   ]
  },
  {
   "cell_type": "code",
   "execution_count": null,
   "id": "43f1af51-80e1-4e24-b9af-64bd23807db7",
   "metadata": {
    "scrolled": true
   },
   "outputs": [],
   "source": [
    "# Personal Data\n",
    "person = {'first_name': 'Lordina',\n",
    "         'last_name':'Akwaaku',\n",
    "         'age': '20 years',\n",
    "         'city': 'Georgia',\n",
    "         }\n",
    "\n",
    "# printing the keys\n",
    "print(person['first_name'])\n",
    "print(person['last_name'])\n",
    "\n",
    "print(f\"{person['age']}\")\n",
    "print(f\"{person['city']}\")\n",
    "\n"
   ]
  },
  {
   "cell_type": "code",
   "execution_count": null,
   "id": "69ee1b88-de56-47fd-8fea-1a94cf15ffcd",
   "metadata": {},
   "outputs": [],
   "source": []
  },
  {
   "cell_type": "markdown",
   "id": "8ca003e6-586e-4533-889d-20651f9bd667",
   "metadata": {},
   "source": [
    "**6-2.** Favorite Numbers: Use a dictionary to store people’s favorite numbers. \n",
    "Think of five names, and use them as keys in your dictionary. Think of a favorite \n",
    "number for each person, and store each as a value in your dictionary. Print \n",
    "each person’s name and their favorite number. For even more fun, poll a few \n",
    "friends and get some actual data for your program."
   ]
  },
  {
   "cell_type": "code",
   "execution_count": null,
   "id": "4b091bed-d4e4-4835-b711-bf62e4d22dec",
   "metadata": {},
   "outputs": [],
   "source": [
    "# People's favourite numbers\n",
    "fav_numbers = {'janet':'23',\n",
    "              'danso':'33',\n",
    "              'gilbert':'21',\n",
    "              'faustina': '15',\n",
    "              'nicolas': '34',\n",
    "              }\n",
    "# Printing favourite numbers\n",
    "print(f\"Janet likes number {fav_numbers['janet']}\")\n",
    "print(f\"Danso likes number {fav_numbers['danso']}\")\n",
    "print(f\"Gilbert likes number {fav_numbers['gilbert']}\")\n",
    "print(f\"Faustina likes number {fav_numbers['faustina']}\")\n",
    "print(f\"Nicolas likes number {fav_numbers['nicolas']}\")\n"
   ]
  },
  {
   "cell_type": "code",
   "execution_count": null,
   "id": "e59fcf82-7674-4568-a102-8420ef17d439",
   "metadata": {},
   "outputs": [],
   "source": []
  },
  {
   "cell_type": "markdown",
   "id": "6a997b8f-704a-49f7-b0cb-dbf2e47946b4",
   "metadata": {},
   "source": [
    "**6-3.** Glossary: A Python dictionary can be used to model an actual dictionary. \n",
    "However, to avoid confusion, let’s call it a glossary.\n",
    "•\t Think of five programming words you’ve learned about in the previous \n",
    "chapters. Use these words as the keys in your glossary, and store their \n",
    "meanings as values.\n",
    "•\t Print each word and its meaning as neatly formatted output. You might \n",
    "print the word followed by a colon and then its meaning, or print the word \n",
    "on one line and then print its meaning indented on a second line. Use the \n",
    "newline character (\\n) to insert a blank line between each word-meaning \n",
    "pair in your output."
   ]
  },
  {
   "cell_type": "code",
   "execution_count": null,
   "id": "356f1dd9-107f-4444-ad95-564b967e1cb1",
   "metadata": {},
   "outputs": [],
   "source": [
    "#Glossary\n",
    "glossary = {'variable':'a word that is used to represent a value',\n",
    "           'list': 'a python data structure used to store values',\n",
    "           'output': 'the displayed results after a code execution ',\n",
    "           'program': 'a set of instructions to be executed by computer',\n",
    "           'print': 'a command that is executed by the computer to display a code',\n",
    "           }\n",
    "\n",
    "# Printing glossary\n",
    "print(f\"Variable:{glossary['variable']}\\n\")\n",
    "print(f\"List:{glossary['list']}\\n\")\n",
    "\n",
    "print(f\"Output:\\n{glossary['output']}\\n\")\n",
    "print(f\"Program:\\n{glossary['program']}\\n\")"
   ]
  },
  {
   "cell_type": "code",
   "execution_count": null,
   "id": "8b42e19c-978c-4cc0-b7ca-2ece9215739c",
   "metadata": {},
   "outputs": [],
   "source": []
  }
 ],
 "metadata": {
  "kernelspec": {
   "display_name": "Python [conda env:base] *",
   "language": "python",
   "name": "conda-base-py"
  },
  "language_info": {
   "codemirror_mode": {
    "name": "ipython",
    "version": 3
   },
   "file_extension": ".py",
   "mimetype": "text/x-python",
   "name": "python",
   "nbconvert_exporter": "python",
   "pygments_lexer": "ipython3",
   "version": "3.12.7"
  }
 },
 "nbformat": 4,
 "nbformat_minor": 5
}
